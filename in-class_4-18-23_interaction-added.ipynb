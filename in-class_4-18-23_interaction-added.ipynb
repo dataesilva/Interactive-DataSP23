{
 "cells": [
  {
   "cell_type": "code",
   "execution_count": 1,
   "id": "c67afb02",
   "metadata": {},
   "outputs": [],
   "source": [
    "import pandas as pd\n",
    "import numpy as np\n",
    "import statsmodels.formula.api as sm"
   ]
  },
  {
   "cell_type": "code",
   "execution_count": 2,
   "id": "f5b75cd6",
   "metadata": {},
   "outputs": [],
   "source": [
    "mobile_use = pd.read_spss('mobile-use.sav')"
   ]
  },
  {
   "cell_type": "code",
   "execution_count": 3,
   "id": "064020cd",
   "metadata": {},
   "outputs": [
    {
     "data": {
      "text/html": [
       "<div>\n",
       "<style scoped>\n",
       "    .dataframe tbody tr th:only-of-type {\n",
       "        vertical-align: middle;\n",
       "    }\n",
       "\n",
       "    .dataframe tbody tr th {\n",
       "        vertical-align: top;\n",
       "    }\n",
       "\n",
       "    .dataframe thead th {\n",
       "        text-align: right;\n",
       "    }\n",
       "</style>\n",
       "<table border=\"1\" class=\"dataframe\">\n",
       "  <thead>\n",
       "    <tr style=\"text-align: right;\">\n",
       "      <th></th>\n",
       "      <th>Age</th>\n",
       "      <th>spBrand</th>\n",
       "      <th>spAge</th>\n",
       "      <th>spWBUseFreq</th>\n",
       "      <th>spSEUseFreq</th>\n",
       "      <th>spComfInstallBrowser</th>\n",
       "      <th>spComfDefaultBrowserChange</th>\n",
       "      <th>spComfDefaultSearchChange</th>\n",
       "      <th>Sex</th>\n",
       "      <th>GUID</th>\n",
       "      <th>spComfInstallBrowser_recode</th>\n",
       "      <th>spComfDefaultBrowserChange_recode</th>\n",
       "      <th>spComfDefaultSearchChange_recode</th>\n",
       "      <th>Ethnicity</th>\n",
       "      <th>Education</th>\n",
       "      <th>Income</th>\n",
       "      <th>spComfort</th>\n",
       "    </tr>\n",
       "  </thead>\n",
       "  <tbody>\n",
       "    <tr>\n",
       "      <th>0</th>\n",
       "      <td>38.0</td>\n",
       "      <td>HTC</td>\n",
       "      <td>Less than 1 year old</td>\n",
       "      <td>Many times a day</td>\n",
       "      <td>Many times a day</td>\n",
       "      <td>Very uncomfortable</td>\n",
       "      <td>Very uncomfortable</td>\n",
       "      <td>Very uncomfortable</td>\n",
       "      <td>Female</td>\n",
       "      <td>0007a34a-df0f-ff99-dfc8-942cbfd6dba1</td>\n",
       "      <td>0.0</td>\n",
       "      <td>0.0</td>\n",
       "      <td>0.0</td>\n",
       "      <td>Black or African American</td>\n",
       "      <td>Secondary School</td>\n",
       "      <td></td>\n",
       "      <td>0.000000</td>\n",
       "    </tr>\n",
       "    <tr>\n",
       "      <th>1</th>\n",
       "      <td>46.0</td>\n",
       "      <td>NaN</td>\n",
       "      <td>NaN</td>\n",
       "      <td>NaN</td>\n",
       "      <td>NaN</td>\n",
       "      <td>Very comfortable</td>\n",
       "      <td>Very comfortable</td>\n",
       "      <td>Very comfortable</td>\n",
       "      <td>Female</td>\n",
       "      <td>00282bac-006c-7aaf-a02e-1c038f3f9441</td>\n",
       "      <td>4.0</td>\n",
       "      <td>4.0</td>\n",
       "      <td>4.0</td>\n",
       "      <td>White</td>\n",
       "      <td>None completed</td>\n",
       "      <td>$0 - $14,999</td>\n",
       "      <td>4.000000</td>\n",
       "    </tr>\n",
       "    <tr>\n",
       "      <th>2</th>\n",
       "      <td>29.0</td>\n",
       "      <td>NaN</td>\n",
       "      <td>NaN</td>\n",
       "      <td>NaN</td>\n",
       "      <td>NaN</td>\n",
       "      <td>Comfortable</td>\n",
       "      <td>Comfortable</td>\n",
       "      <td>Comfortable</td>\n",
       "      <td>Female</td>\n",
       "      <td>00a4c861-1c1d-e660-60e3-ff8f0d54db96</td>\n",
       "      <td>3.0</td>\n",
       "      <td>3.0</td>\n",
       "      <td>3.0</td>\n",
       "      <td>White</td>\n",
       "      <td>University/Higher Education</td>\n",
       "      <td>$15,000 - $24,999</td>\n",
       "      <td>3.000000</td>\n",
       "    </tr>\n",
       "    <tr>\n",
       "      <th>3</th>\n",
       "      <td>62.0</td>\n",
       "      <td>Google</td>\n",
       "      <td>1 to less than 2 years old</td>\n",
       "      <td>At least once a day</td>\n",
       "      <td>At least once per week</td>\n",
       "      <td>Neither uncomfortable nor comfortable</td>\n",
       "      <td>Uncomfortable</td>\n",
       "      <td>Very comfortable</td>\n",
       "      <td>Female</td>\n",
       "      <td>014ab9a2-1f31-8d9c-8e20-8e614dd9174f</td>\n",
       "      <td>2.0</td>\n",
       "      <td>1.0</td>\n",
       "      <td>4.0</td>\n",
       "      <td>Asian</td>\n",
       "      <td>High School/Tertiary/Tech. College</td>\n",
       "      <td></td>\n",
       "      <td>2.333333</td>\n",
       "    </tr>\n",
       "    <tr>\n",
       "      <th>4</th>\n",
       "      <td>48.0</td>\n",
       "      <td>Don’t know smartphone brand</td>\n",
       "      <td>Don’t know</td>\n",
       "      <td>At least once per month</td>\n",
       "      <td>At least once per month</td>\n",
       "      <td>Comfortable</td>\n",
       "      <td>Comfortable</td>\n",
       "      <td>Comfortable</td>\n",
       "      <td>Female</td>\n",
       "      <td>01cf5015-1cc1-5cc2-0b97-67e45a2e18f2</td>\n",
       "      <td>3.0</td>\n",
       "      <td>3.0</td>\n",
       "      <td>3.0</td>\n",
       "      <td>White</td>\n",
       "      <td>University/Higher Education</td>\n",
       "      <td></td>\n",
       "      <td>3.000000</td>\n",
       "    </tr>\n",
       "  </tbody>\n",
       "</table>\n",
       "</div>"
      ],
      "text/plain": [
       "    Age                      spBrand                       spAge  \\\n",
       "0  38.0                          HTC        Less than 1 year old   \n",
       "1  46.0                          NaN                         NaN   \n",
       "2  29.0                          NaN                         NaN   \n",
       "3  62.0                       Google  1 to less than 2 years old   \n",
       "4  48.0  Don’t know smartphone brand                  Don’t know   \n",
       "\n",
       "               spWBUseFreq              spSEUseFreq  \\\n",
       "0         Many times a day         Many times a day   \n",
       "1                      NaN                      NaN   \n",
       "2                      NaN                      NaN   \n",
       "3      At least once a day   At least once per week   \n",
       "4  At least once per month  At least once per month   \n",
       "\n",
       "                    spComfInstallBrowser spComfDefaultBrowserChange  \\\n",
       "0                     Very uncomfortable         Very uncomfortable   \n",
       "1                       Very comfortable           Very comfortable   \n",
       "2                            Comfortable                Comfortable   \n",
       "3  Neither uncomfortable nor comfortable              Uncomfortable   \n",
       "4                            Comfortable                Comfortable   \n",
       "\n",
       "  spComfDefaultSearchChange     Sex                                  GUID  \\\n",
       "0        Very uncomfortable  Female  0007a34a-df0f-ff99-dfc8-942cbfd6dba1   \n",
       "1          Very comfortable  Female  00282bac-006c-7aaf-a02e-1c038f3f9441   \n",
       "2               Comfortable  Female  00a4c861-1c1d-e660-60e3-ff8f0d54db96   \n",
       "3          Very comfortable  Female  014ab9a2-1f31-8d9c-8e20-8e614dd9174f   \n",
       "4               Comfortable  Female  01cf5015-1cc1-5cc2-0b97-67e45a2e18f2   \n",
       "\n",
       "   spComfInstallBrowser_recode  spComfDefaultBrowserChange_recode  \\\n",
       "0                          0.0                                0.0   \n",
       "1                          4.0                                4.0   \n",
       "2                          3.0                                3.0   \n",
       "3                          2.0                                1.0   \n",
       "4                          3.0                                3.0   \n",
       "\n",
       "   spComfDefaultSearchChange_recode                  Ethnicity  \\\n",
       "0                               0.0  Black or African American   \n",
       "1                               4.0                      White   \n",
       "2                               3.0                      White   \n",
       "3                               4.0                      Asian   \n",
       "4                               3.0                      White   \n",
       "\n",
       "                            Education             Income  spComfort  \n",
       "0                    Secondary School                      0.000000  \n",
       "1                      None completed       $0 - $14,999   4.000000  \n",
       "2         University/Higher Education  $15,000 - $24,999   3.000000  \n",
       "3  High School/Tertiary/Tech. College                      2.333333  \n",
       "4         University/Higher Education                      3.000000  "
      ]
     },
     "execution_count": 3,
     "metadata": {},
     "output_type": "execute_result"
    }
   ],
   "source": [
    "mobile_use.head()"
   ]
  },
  {
   "cell_type": "code",
   "execution_count": 4,
   "id": "71b3b667",
   "metadata": {},
   "outputs": [
    {
     "data": {
      "text/plain": [
       "Age                                   float64\n",
       "spBrand                              category\n",
       "spAge                                category\n",
       "spWBUseFreq                          category\n",
       "spSEUseFreq                          category\n",
       "spComfInstallBrowser                 category\n",
       "spComfDefaultBrowserChange           category\n",
       "spComfDefaultSearchChange            category\n",
       "Sex                                  category\n",
       "GUID                                   object\n",
       "spComfInstallBrowser_recode           float64\n",
       "spComfDefaultBrowserChange_recode     float64\n",
       "spComfDefaultSearchChange_recode      float64\n",
       "Ethnicity                              object\n",
       "Education                              object\n",
       "Income                                 object\n",
       "spComfort                             float64\n",
       "dtype: object"
      ]
     },
     "execution_count": 4,
     "metadata": {},
     "output_type": "execute_result"
    }
   ],
   "source": [
    "mobile_use.dtypes"
   ]
  },
  {
   "cell_type": "code",
   "execution_count": 5,
   "id": "9225ba51",
   "metadata": {},
   "outputs": [
    {
     "data": {
      "text/plain": [
       "0             Less than 1 year old\n",
       "1                              NaN\n",
       "2                              NaN\n",
       "3       1 to less than 2 years old\n",
       "4                       Don’t know\n",
       "                   ...            \n",
       "1218                           NaN\n",
       "1219          Less than 1 year old\n",
       "1220                           NaN\n",
       "1221    2 to less than 3 years old\n",
       "1222    1 to less than 2 years old\n",
       "Name: spAge, Length: 1223, dtype: category\n",
       "Categories (7, object): ['1 to less than 2 years old', '2 to less than 3 years old', '3 to less than 4 years old', '4 to less than 5 years old', '5 or more years old', 'Don’t know', 'Less than 1 year old']"
      ]
     },
     "execution_count": 5,
     "metadata": {},
     "output_type": "execute_result"
    }
   ],
   "source": [
    "mobile_use['spAge']"
   ]
  },
  {
   "cell_type": "code",
   "execution_count": 6,
   "id": "8df25c8e",
   "metadata": {},
   "outputs": [],
   "source": [
    "mobile_use['spAge'] = mobile_use['spAge'] \\\n",
    ".replace(['1 to less than 2 years old',\n",
    "          '2 to less than 3 years old',\n",
    "          '3 to less than 4 years old',\n",
    "          '4 to less than 5 years old',\n",
    "          '5 or more years old',\n",
    "          'Don’t know',\n",
    "          'Less than 1 year old'],\n",
    "        [1, 2, 3, 4, 5, np.nan, 0])"
   ]
  },
  {
   "cell_type": "code",
   "execution_count": 7,
   "id": "f33c90b6",
   "metadata": {},
   "outputs": [
    {
     "data": {
      "text/plain": [
       "0         0\n",
       "1       NaN\n",
       "2       NaN\n",
       "3         1\n",
       "4       NaN\n",
       "       ... \n",
       "1218    NaN\n",
       "1219      0\n",
       "1220    NaN\n",
       "1221      2\n",
       "1222      1\n",
       "Name: spAge, Length: 1223, dtype: category\n",
       "Categories (6, int64): [1, 2, 3, 4, 5, 0]"
      ]
     },
     "execution_count": 7,
     "metadata": {},
     "output_type": "execute_result"
    }
   ],
   "source": [
    "mobile_use['spAge']"
   ]
  },
  {
   "cell_type": "code",
   "execution_count": 8,
   "id": "f81687ad",
   "metadata": {},
   "outputs": [
    {
     "data": {
      "text/plain": [
       "0       Female\n",
       "1       Female\n",
       "2       Female\n",
       "3       Female\n",
       "4       Female\n",
       "         ...  \n",
       "1218    Female\n",
       "1219    Female\n",
       "1220    Female\n",
       "1221      Male\n",
       "1222      Male\n",
       "Name: Sex, Length: 1223, dtype: category\n",
       "Categories (2, object): ['Female', 'Male']"
      ]
     },
     "execution_count": 8,
     "metadata": {},
     "output_type": "execute_result"
    }
   ],
   "source": [
    "mobile_use['Sex']"
   ]
  },
  {
   "cell_type": "code",
   "execution_count": 9,
   "id": "48eb1d9b",
   "metadata": {},
   "outputs": [
    {
     "data": {
      "text/html": [
       "<div>\n",
       "<style scoped>\n",
       "    .dataframe tbody tr th:only-of-type {\n",
       "        vertical-align: middle;\n",
       "    }\n",
       "\n",
       "    .dataframe tbody tr th {\n",
       "        vertical-align: top;\n",
       "    }\n",
       "\n",
       "    .dataframe thead th {\n",
       "        text-align: right;\n",
       "    }\n",
       "</style>\n",
       "<table border=\"1\" class=\"dataframe\">\n",
       "  <thead>\n",
       "    <tr style=\"text-align: right;\">\n",
       "      <th></th>\n",
       "      <th>Male</th>\n",
       "    </tr>\n",
       "  </thead>\n",
       "  <tbody>\n",
       "    <tr>\n",
       "      <th>0</th>\n",
       "      <td>0</td>\n",
       "    </tr>\n",
       "    <tr>\n",
       "      <th>1</th>\n",
       "      <td>0</td>\n",
       "    </tr>\n",
       "    <tr>\n",
       "      <th>2</th>\n",
       "      <td>0</td>\n",
       "    </tr>\n",
       "    <tr>\n",
       "      <th>3</th>\n",
       "      <td>0</td>\n",
       "    </tr>\n",
       "    <tr>\n",
       "      <th>4</th>\n",
       "      <td>0</td>\n",
       "    </tr>\n",
       "    <tr>\n",
       "      <th>...</th>\n",
       "      <td>...</td>\n",
       "    </tr>\n",
       "    <tr>\n",
       "      <th>1218</th>\n",
       "      <td>0</td>\n",
       "    </tr>\n",
       "    <tr>\n",
       "      <th>1219</th>\n",
       "      <td>0</td>\n",
       "    </tr>\n",
       "    <tr>\n",
       "      <th>1220</th>\n",
       "      <td>0</td>\n",
       "    </tr>\n",
       "    <tr>\n",
       "      <th>1221</th>\n",
       "      <td>1</td>\n",
       "    </tr>\n",
       "    <tr>\n",
       "      <th>1222</th>\n",
       "      <td>1</td>\n",
       "    </tr>\n",
       "  </tbody>\n",
       "</table>\n",
       "<p>1223 rows × 1 columns</p>\n",
       "</div>"
      ],
      "text/plain": [
       "      Male\n",
       "0        0\n",
       "1        0\n",
       "2        0\n",
       "3        0\n",
       "4        0\n",
       "...    ...\n",
       "1218     0\n",
       "1219     0\n",
       "1220     0\n",
       "1221     1\n",
       "1222     1\n",
       "\n",
       "[1223 rows x 1 columns]"
      ]
     },
     "execution_count": 9,
     "metadata": {},
     "output_type": "execute_result"
    }
   ],
   "source": [
    "sex_dummies = pd.get_dummies(mobile_use['Sex'], drop_first = True)\n",
    "sex_dummies"
   ]
  },
  {
   "cell_type": "code",
   "execution_count": 10,
   "id": "f5f72a2f",
   "metadata": {},
   "outputs": [
    {
     "data": {
      "text/plain": [
       "0                                        HTC\n",
       "1                                        NaN\n",
       "2                                        NaN\n",
       "3                                     Google\n",
       "4                Don’t know smartphone brand\n",
       "                        ...                 \n",
       "1218                                     NaN\n",
       "1219                                 Samsung\n",
       "1220                                     NaN\n",
       "1221                                   Apple\n",
       "1222    Microsoft (Windows operating System)\n",
       "Name: spBrand, Length: 1223, dtype: category\n",
       "Categories (22, object): ['Apple', 'Blackberry', 'Don’t know smartphone brand', 'Google', ..., 'Sony', 'Vivo', 'Xiaomi', 'ZTE']"
      ]
     },
     "execution_count": 10,
     "metadata": {},
     "output_type": "execute_result"
    }
   ],
   "source": [
    "mobile_use['spBrand']"
   ]
  },
  {
   "cell_type": "code",
   "execution_count": 11,
   "id": "f5d5739d",
   "metadata": {},
   "outputs": [
    {
     "data": {
      "text/html": [
       "<div>\n",
       "<style scoped>\n",
       "    .dataframe tbody tr th:only-of-type {\n",
       "        vertical-align: middle;\n",
       "    }\n",
       "\n",
       "    .dataframe tbody tr th {\n",
       "        vertical-align: top;\n",
       "    }\n",
       "\n",
       "    .dataframe thead th {\n",
       "        text-align: right;\n",
       "    }\n",
       "</style>\n",
       "<table border=\"1\" class=\"dataframe\">\n",
       "  <thead>\n",
       "    <tr style=\"text-align: right;\">\n",
       "      <th></th>\n",
       "      <th>Apple</th>\n",
       "      <th>Blackberry</th>\n",
       "      <th>Don’t know smartphone brand</th>\n",
       "      <th>Google</th>\n",
       "      <th>HTC</th>\n",
       "      <th>Honor</th>\n",
       "      <th>Huawei</th>\n",
       "      <th>LG</th>\n",
       "      <th>Lenovo</th>\n",
       "      <th>Microsoft (Android operating System)</th>\n",
       "      <th>...</th>\n",
       "      <th>Nokia</th>\n",
       "      <th>OnePlus</th>\n",
       "      <th>Oppo</th>\n",
       "      <th>Other brand (please specify)</th>\n",
       "      <th>RealMe</th>\n",
       "      <th>Samsung</th>\n",
       "      <th>Sony</th>\n",
       "      <th>Vivo</th>\n",
       "      <th>Xiaomi</th>\n",
       "      <th>ZTE</th>\n",
       "    </tr>\n",
       "  </thead>\n",
       "  <tbody>\n",
       "    <tr>\n",
       "      <th>0</th>\n",
       "      <td>0</td>\n",
       "      <td>0</td>\n",
       "      <td>0</td>\n",
       "      <td>0</td>\n",
       "      <td>1</td>\n",
       "      <td>0</td>\n",
       "      <td>0</td>\n",
       "      <td>0</td>\n",
       "      <td>0</td>\n",
       "      <td>0</td>\n",
       "      <td>...</td>\n",
       "      <td>0</td>\n",
       "      <td>0</td>\n",
       "      <td>0</td>\n",
       "      <td>0</td>\n",
       "      <td>0</td>\n",
       "      <td>0</td>\n",
       "      <td>0</td>\n",
       "      <td>0</td>\n",
       "      <td>0</td>\n",
       "      <td>0</td>\n",
       "    </tr>\n",
       "    <tr>\n",
       "      <th>1</th>\n",
       "      <td>0</td>\n",
       "      <td>0</td>\n",
       "      <td>0</td>\n",
       "      <td>0</td>\n",
       "      <td>0</td>\n",
       "      <td>0</td>\n",
       "      <td>0</td>\n",
       "      <td>0</td>\n",
       "      <td>0</td>\n",
       "      <td>0</td>\n",
       "      <td>...</td>\n",
       "      <td>0</td>\n",
       "      <td>0</td>\n",
       "      <td>0</td>\n",
       "      <td>0</td>\n",
       "      <td>0</td>\n",
       "      <td>0</td>\n",
       "      <td>0</td>\n",
       "      <td>0</td>\n",
       "      <td>0</td>\n",
       "      <td>0</td>\n",
       "    </tr>\n",
       "    <tr>\n",
       "      <th>2</th>\n",
       "      <td>0</td>\n",
       "      <td>0</td>\n",
       "      <td>0</td>\n",
       "      <td>0</td>\n",
       "      <td>0</td>\n",
       "      <td>0</td>\n",
       "      <td>0</td>\n",
       "      <td>0</td>\n",
       "      <td>0</td>\n",
       "      <td>0</td>\n",
       "      <td>...</td>\n",
       "      <td>0</td>\n",
       "      <td>0</td>\n",
       "      <td>0</td>\n",
       "      <td>0</td>\n",
       "      <td>0</td>\n",
       "      <td>0</td>\n",
       "      <td>0</td>\n",
       "      <td>0</td>\n",
       "      <td>0</td>\n",
       "      <td>0</td>\n",
       "    </tr>\n",
       "    <tr>\n",
       "      <th>3</th>\n",
       "      <td>0</td>\n",
       "      <td>0</td>\n",
       "      <td>0</td>\n",
       "      <td>1</td>\n",
       "      <td>0</td>\n",
       "      <td>0</td>\n",
       "      <td>0</td>\n",
       "      <td>0</td>\n",
       "      <td>0</td>\n",
       "      <td>0</td>\n",
       "      <td>...</td>\n",
       "      <td>0</td>\n",
       "      <td>0</td>\n",
       "      <td>0</td>\n",
       "      <td>0</td>\n",
       "      <td>0</td>\n",
       "      <td>0</td>\n",
       "      <td>0</td>\n",
       "      <td>0</td>\n",
       "      <td>0</td>\n",
       "      <td>0</td>\n",
       "    </tr>\n",
       "    <tr>\n",
       "      <th>4</th>\n",
       "      <td>0</td>\n",
       "      <td>0</td>\n",
       "      <td>1</td>\n",
       "      <td>0</td>\n",
       "      <td>0</td>\n",
       "      <td>0</td>\n",
       "      <td>0</td>\n",
       "      <td>0</td>\n",
       "      <td>0</td>\n",
       "      <td>0</td>\n",
       "      <td>...</td>\n",
       "      <td>0</td>\n",
       "      <td>0</td>\n",
       "      <td>0</td>\n",
       "      <td>0</td>\n",
       "      <td>0</td>\n",
       "      <td>0</td>\n",
       "      <td>0</td>\n",
       "      <td>0</td>\n",
       "      <td>0</td>\n",
       "      <td>0</td>\n",
       "    </tr>\n",
       "    <tr>\n",
       "      <th>...</th>\n",
       "      <td>...</td>\n",
       "      <td>...</td>\n",
       "      <td>...</td>\n",
       "      <td>...</td>\n",
       "      <td>...</td>\n",
       "      <td>...</td>\n",
       "      <td>...</td>\n",
       "      <td>...</td>\n",
       "      <td>...</td>\n",
       "      <td>...</td>\n",
       "      <td>...</td>\n",
       "      <td>...</td>\n",
       "      <td>...</td>\n",
       "      <td>...</td>\n",
       "      <td>...</td>\n",
       "      <td>...</td>\n",
       "      <td>...</td>\n",
       "      <td>...</td>\n",
       "      <td>...</td>\n",
       "      <td>...</td>\n",
       "      <td>...</td>\n",
       "    </tr>\n",
       "    <tr>\n",
       "      <th>1218</th>\n",
       "      <td>0</td>\n",
       "      <td>0</td>\n",
       "      <td>0</td>\n",
       "      <td>0</td>\n",
       "      <td>0</td>\n",
       "      <td>0</td>\n",
       "      <td>0</td>\n",
       "      <td>0</td>\n",
       "      <td>0</td>\n",
       "      <td>0</td>\n",
       "      <td>...</td>\n",
       "      <td>0</td>\n",
       "      <td>0</td>\n",
       "      <td>0</td>\n",
       "      <td>0</td>\n",
       "      <td>0</td>\n",
       "      <td>0</td>\n",
       "      <td>0</td>\n",
       "      <td>0</td>\n",
       "      <td>0</td>\n",
       "      <td>0</td>\n",
       "    </tr>\n",
       "    <tr>\n",
       "      <th>1219</th>\n",
       "      <td>0</td>\n",
       "      <td>0</td>\n",
       "      <td>0</td>\n",
       "      <td>0</td>\n",
       "      <td>0</td>\n",
       "      <td>0</td>\n",
       "      <td>0</td>\n",
       "      <td>0</td>\n",
       "      <td>0</td>\n",
       "      <td>0</td>\n",
       "      <td>...</td>\n",
       "      <td>0</td>\n",
       "      <td>0</td>\n",
       "      <td>0</td>\n",
       "      <td>0</td>\n",
       "      <td>0</td>\n",
       "      <td>1</td>\n",
       "      <td>0</td>\n",
       "      <td>0</td>\n",
       "      <td>0</td>\n",
       "      <td>0</td>\n",
       "    </tr>\n",
       "    <tr>\n",
       "      <th>1220</th>\n",
       "      <td>0</td>\n",
       "      <td>0</td>\n",
       "      <td>0</td>\n",
       "      <td>0</td>\n",
       "      <td>0</td>\n",
       "      <td>0</td>\n",
       "      <td>0</td>\n",
       "      <td>0</td>\n",
       "      <td>0</td>\n",
       "      <td>0</td>\n",
       "      <td>...</td>\n",
       "      <td>0</td>\n",
       "      <td>0</td>\n",
       "      <td>0</td>\n",
       "      <td>0</td>\n",
       "      <td>0</td>\n",
       "      <td>0</td>\n",
       "      <td>0</td>\n",
       "      <td>0</td>\n",
       "      <td>0</td>\n",
       "      <td>0</td>\n",
       "    </tr>\n",
       "    <tr>\n",
       "      <th>1221</th>\n",
       "      <td>1</td>\n",
       "      <td>0</td>\n",
       "      <td>0</td>\n",
       "      <td>0</td>\n",
       "      <td>0</td>\n",
       "      <td>0</td>\n",
       "      <td>0</td>\n",
       "      <td>0</td>\n",
       "      <td>0</td>\n",
       "      <td>0</td>\n",
       "      <td>...</td>\n",
       "      <td>0</td>\n",
       "      <td>0</td>\n",
       "      <td>0</td>\n",
       "      <td>0</td>\n",
       "      <td>0</td>\n",
       "      <td>0</td>\n",
       "      <td>0</td>\n",
       "      <td>0</td>\n",
       "      <td>0</td>\n",
       "      <td>0</td>\n",
       "    </tr>\n",
       "    <tr>\n",
       "      <th>1222</th>\n",
       "      <td>0</td>\n",
       "      <td>0</td>\n",
       "      <td>0</td>\n",
       "      <td>0</td>\n",
       "      <td>0</td>\n",
       "      <td>0</td>\n",
       "      <td>0</td>\n",
       "      <td>0</td>\n",
       "      <td>0</td>\n",
       "      <td>0</td>\n",
       "      <td>...</td>\n",
       "      <td>0</td>\n",
       "      <td>0</td>\n",
       "      <td>0</td>\n",
       "      <td>0</td>\n",
       "      <td>0</td>\n",
       "      <td>0</td>\n",
       "      <td>0</td>\n",
       "      <td>0</td>\n",
       "      <td>0</td>\n",
       "      <td>0</td>\n",
       "    </tr>\n",
       "  </tbody>\n",
       "</table>\n",
       "<p>1223 rows × 22 columns</p>\n",
       "</div>"
      ],
      "text/plain": [
       "      Apple  Blackberry  Don’t know smartphone brand  Google  HTC  Honor  \\\n",
       "0         0           0                            0       0    1      0   \n",
       "1         0           0                            0       0    0      0   \n",
       "2         0           0                            0       0    0      0   \n",
       "3         0           0                            0       1    0      0   \n",
       "4         0           0                            1       0    0      0   \n",
       "...     ...         ...                          ...     ...  ...    ...   \n",
       "1218      0           0                            0       0    0      0   \n",
       "1219      0           0                            0       0    0      0   \n",
       "1220      0           0                            0       0    0      0   \n",
       "1221      1           0                            0       0    0      0   \n",
       "1222      0           0                            0       0    0      0   \n",
       "\n",
       "      Huawei  LG  Lenovo  Microsoft (Android operating System)  ...  Nokia  \\\n",
       "0          0   0       0                                     0  ...      0   \n",
       "1          0   0       0                                     0  ...      0   \n",
       "2          0   0       0                                     0  ...      0   \n",
       "3          0   0       0                                     0  ...      0   \n",
       "4          0   0       0                                     0  ...      0   \n",
       "...      ...  ..     ...                                   ...  ...    ...   \n",
       "1218       0   0       0                                     0  ...      0   \n",
       "1219       0   0       0                                     0  ...      0   \n",
       "1220       0   0       0                                     0  ...      0   \n",
       "1221       0   0       0                                     0  ...      0   \n",
       "1222       0   0       0                                     0  ...      0   \n",
       "\n",
       "      OnePlus  Oppo  Other brand (please specify)  RealMe  Samsung  Sony  \\\n",
       "0           0     0                             0       0        0     0   \n",
       "1           0     0                             0       0        0     0   \n",
       "2           0     0                             0       0        0     0   \n",
       "3           0     0                             0       0        0     0   \n",
       "4           0     0                             0       0        0     0   \n",
       "...       ...   ...                           ...     ...      ...   ...   \n",
       "1218        0     0                             0       0        0     0   \n",
       "1219        0     0                             0       0        1     0   \n",
       "1220        0     0                             0       0        0     0   \n",
       "1221        0     0                             0       0        0     0   \n",
       "1222        0     0                             0       0        0     0   \n",
       "\n",
       "      Vivo  Xiaomi  ZTE  \n",
       "0        0       0    0  \n",
       "1        0       0    0  \n",
       "2        0       0    0  \n",
       "3        0       0    0  \n",
       "4        0       0    0  \n",
       "...    ...     ...  ...  \n",
       "1218     0       0    0  \n",
       "1219     0       0    0  \n",
       "1220     0       0    0  \n",
       "1221     0       0    0  \n",
       "1222     0       0    0  \n",
       "\n",
       "[1223 rows x 22 columns]"
      ]
     },
     "execution_count": 11,
     "metadata": {},
     "output_type": "execute_result"
    }
   ],
   "source": [
    "pd.get_dummies(mobile_use['spBrand'])"
   ]
  },
  {
   "cell_type": "code",
   "execution_count": 12,
   "id": "e83325ac",
   "metadata": {},
   "outputs": [
    {
     "data": {
      "text/plain": [
       "spBrand\n",
       "Apple                                   304\n",
       "Samsung                                 279\n",
       "Motorola                                 85\n",
       "LG                                       75\n",
       "Google                                   64\n",
       "Other brand (please specify)             22\n",
       "Blackberry                               11\n",
       "Oppo                                     10\n",
       "OnePlus                                   9\n",
       "Don’t know smartphone brand               9\n",
       "Microsoft (Android operating System)      9\n",
       "Microsoft (Windows operating System)      9\n",
       "HTC                                       9\n",
       "Nokia                                     8\n",
       "Lenovo                                    7\n",
       "Sony                                      7\n",
       "Honor                                     5\n",
       "ZTE                                       5\n",
       "Vivo                                      4\n",
       "Huawei                                    3\n",
       "RealMe                                    3\n",
       "Xiaomi                                    3\n",
       "Name: GUID, dtype: int64"
      ]
     },
     "execution_count": 12,
     "metadata": {},
     "output_type": "execute_result"
    }
   ],
   "source": [
    "mobile_use.groupby('spBrand')['GUID'] \\\n",
    ".count() \\\n",
    ".sort_values(ascending = False)"
   ]
  },
  {
   "cell_type": "code",
   "execution_count": 13,
   "id": "8ed7a152",
   "metadata": {},
   "outputs": [
    {
     "data": {
      "text/html": [
       "<div>\n",
       "<style scoped>\n",
       "    .dataframe tbody tr th:only-of-type {\n",
       "        vertical-align: middle;\n",
       "    }\n",
       "\n",
       "    .dataframe tbody tr th {\n",
       "        vertical-align: top;\n",
       "    }\n",
       "\n",
       "    .dataframe thead th {\n",
       "        text-align: right;\n",
       "    }\n",
       "</style>\n",
       "<table border=\"1\" class=\"dataframe\">\n",
       "  <thead>\n",
       "    <tr style=\"text-align: right;\">\n",
       "      <th></th>\n",
       "      <th>Blackberry</th>\n",
       "      <th>Don’t know smartphone brand</th>\n",
       "      <th>Google</th>\n",
       "      <th>HTC</th>\n",
       "      <th>Honor</th>\n",
       "      <th>Huawei</th>\n",
       "      <th>LG</th>\n",
       "      <th>Lenovo</th>\n",
       "      <th>Microsoft (Android operating System)</th>\n",
       "      <th>Microsoft (Windows operating System)</th>\n",
       "      <th>...</th>\n",
       "      <th>Nokia</th>\n",
       "      <th>OnePlus</th>\n",
       "      <th>Oppo</th>\n",
       "      <th>Other brand (please specify)</th>\n",
       "      <th>RealMe</th>\n",
       "      <th>Samsung</th>\n",
       "      <th>Sony</th>\n",
       "      <th>Vivo</th>\n",
       "      <th>Xiaomi</th>\n",
       "      <th>ZTE</th>\n",
       "    </tr>\n",
       "  </thead>\n",
       "  <tbody>\n",
       "    <tr>\n",
       "      <th>0</th>\n",
       "      <td>0</td>\n",
       "      <td>0</td>\n",
       "      <td>0</td>\n",
       "      <td>1</td>\n",
       "      <td>0</td>\n",
       "      <td>0</td>\n",
       "      <td>0</td>\n",
       "      <td>0</td>\n",
       "      <td>0</td>\n",
       "      <td>0</td>\n",
       "      <td>...</td>\n",
       "      <td>0</td>\n",
       "      <td>0</td>\n",
       "      <td>0</td>\n",
       "      <td>0</td>\n",
       "      <td>0</td>\n",
       "      <td>0</td>\n",
       "      <td>0</td>\n",
       "      <td>0</td>\n",
       "      <td>0</td>\n",
       "      <td>0</td>\n",
       "    </tr>\n",
       "    <tr>\n",
       "      <th>1</th>\n",
       "      <td>0</td>\n",
       "      <td>0</td>\n",
       "      <td>0</td>\n",
       "      <td>0</td>\n",
       "      <td>0</td>\n",
       "      <td>0</td>\n",
       "      <td>0</td>\n",
       "      <td>0</td>\n",
       "      <td>0</td>\n",
       "      <td>0</td>\n",
       "      <td>...</td>\n",
       "      <td>0</td>\n",
       "      <td>0</td>\n",
       "      <td>0</td>\n",
       "      <td>0</td>\n",
       "      <td>0</td>\n",
       "      <td>0</td>\n",
       "      <td>0</td>\n",
       "      <td>0</td>\n",
       "      <td>0</td>\n",
       "      <td>0</td>\n",
       "    </tr>\n",
       "    <tr>\n",
       "      <th>2</th>\n",
       "      <td>0</td>\n",
       "      <td>0</td>\n",
       "      <td>0</td>\n",
       "      <td>0</td>\n",
       "      <td>0</td>\n",
       "      <td>0</td>\n",
       "      <td>0</td>\n",
       "      <td>0</td>\n",
       "      <td>0</td>\n",
       "      <td>0</td>\n",
       "      <td>...</td>\n",
       "      <td>0</td>\n",
       "      <td>0</td>\n",
       "      <td>0</td>\n",
       "      <td>0</td>\n",
       "      <td>0</td>\n",
       "      <td>0</td>\n",
       "      <td>0</td>\n",
       "      <td>0</td>\n",
       "      <td>0</td>\n",
       "      <td>0</td>\n",
       "    </tr>\n",
       "    <tr>\n",
       "      <th>3</th>\n",
       "      <td>0</td>\n",
       "      <td>0</td>\n",
       "      <td>1</td>\n",
       "      <td>0</td>\n",
       "      <td>0</td>\n",
       "      <td>0</td>\n",
       "      <td>0</td>\n",
       "      <td>0</td>\n",
       "      <td>0</td>\n",
       "      <td>0</td>\n",
       "      <td>...</td>\n",
       "      <td>0</td>\n",
       "      <td>0</td>\n",
       "      <td>0</td>\n",
       "      <td>0</td>\n",
       "      <td>0</td>\n",
       "      <td>0</td>\n",
       "      <td>0</td>\n",
       "      <td>0</td>\n",
       "      <td>0</td>\n",
       "      <td>0</td>\n",
       "    </tr>\n",
       "    <tr>\n",
       "      <th>4</th>\n",
       "      <td>0</td>\n",
       "      <td>1</td>\n",
       "      <td>0</td>\n",
       "      <td>0</td>\n",
       "      <td>0</td>\n",
       "      <td>0</td>\n",
       "      <td>0</td>\n",
       "      <td>0</td>\n",
       "      <td>0</td>\n",
       "      <td>0</td>\n",
       "      <td>...</td>\n",
       "      <td>0</td>\n",
       "      <td>0</td>\n",
       "      <td>0</td>\n",
       "      <td>0</td>\n",
       "      <td>0</td>\n",
       "      <td>0</td>\n",
       "      <td>0</td>\n",
       "      <td>0</td>\n",
       "      <td>0</td>\n",
       "      <td>0</td>\n",
       "    </tr>\n",
       "  </tbody>\n",
       "</table>\n",
       "<p>5 rows × 21 columns</p>\n",
       "</div>"
      ],
      "text/plain": [
       "   Blackberry  Don’t know smartphone brand  Google  HTC  Honor  Huawei  LG  \\\n",
       "0           0                            0       0    1      0       0   0   \n",
       "1           0                            0       0    0      0       0   0   \n",
       "2           0                            0       0    0      0       0   0   \n",
       "3           0                            0       1    0      0       0   0   \n",
       "4           0                            1       0    0      0       0   0   \n",
       "\n",
       "   Lenovo  Microsoft (Android operating System)  \\\n",
       "0       0                                     0   \n",
       "1       0                                     0   \n",
       "2       0                                     0   \n",
       "3       0                                     0   \n",
       "4       0                                     0   \n",
       "\n",
       "   Microsoft (Windows operating System)  ...  Nokia  OnePlus  Oppo  \\\n",
       "0                                     0  ...      0        0     0   \n",
       "1                                     0  ...      0        0     0   \n",
       "2                                     0  ...      0        0     0   \n",
       "3                                     0  ...      0        0     0   \n",
       "4                                     0  ...      0        0     0   \n",
       "\n",
       "   Other brand (please specify)  RealMe  Samsung  Sony  Vivo  Xiaomi  ZTE  \n",
       "0                             0       0        0     0     0       0    0  \n",
       "1                             0       0        0     0     0       0    0  \n",
       "2                             0       0        0     0     0       0    0  \n",
       "3                             0       0        0     0     0       0    0  \n",
       "4                             0       0        0     0     0       0    0  \n",
       "\n",
       "[5 rows x 21 columns]"
      ]
     },
     "execution_count": 13,
     "metadata": {},
     "output_type": "execute_result"
    }
   ],
   "source": [
    "brand_dummies = pd.get_dummies(mobile_use['spBrand'], drop_first = True)\n",
    "brand_dummies.head()"
   ]
  },
  {
   "cell_type": "code",
   "execution_count": 14,
   "id": "2c62ecd3",
   "metadata": {},
   "outputs": [],
   "source": [
    "model_data = pd.DataFrame({\n",
    "    'Comfort': mobile_use['spComfort'],\n",
    "    'Age': mobile_use['Age'],\n",
    "    'spAge': mobile_use['spAge'],\n",
    "    'Sex': sex_dummies['Male']})"
   ]
  },
  {
   "cell_type": "code",
   "execution_count": 15,
   "id": "ab6e922d",
   "metadata": {},
   "outputs": [],
   "source": [
    "model_data = model_data.join(brand_dummies[['Samsung', 'Motorola', 'LG', 'Google']])\n",
    "model_data = model_data.dropna()"
   ]
  },
  {
   "cell_type": "code",
   "execution_count": 16,
   "id": "09f14c88",
   "metadata": {},
   "outputs": [],
   "source": [
    "model_data['spAge'] = model_data['spAge'].astype('int64')"
   ]
  },
  {
   "cell_type": "code",
   "execution_count": 17,
   "id": "ce93bea1",
   "metadata": {},
   "outputs": [
    {
     "data": {
      "text/html": [
       "<div>\n",
       "<style scoped>\n",
       "    .dataframe tbody tr th:only-of-type {\n",
       "        vertical-align: middle;\n",
       "    }\n",
       "\n",
       "    .dataframe tbody tr th {\n",
       "        vertical-align: top;\n",
       "    }\n",
       "\n",
       "    .dataframe thead th {\n",
       "        text-align: right;\n",
       "    }\n",
       "</style>\n",
       "<table border=\"1\" class=\"dataframe\">\n",
       "  <thead>\n",
       "    <tr style=\"text-align: right;\">\n",
       "      <th></th>\n",
       "      <th>Comfort</th>\n",
       "      <th>Age</th>\n",
       "      <th>spAge</th>\n",
       "      <th>Sex</th>\n",
       "      <th>Samsung</th>\n",
       "      <th>Motorola</th>\n",
       "      <th>LG</th>\n",
       "      <th>Google</th>\n",
       "    </tr>\n",
       "  </thead>\n",
       "  <tbody>\n",
       "    <tr>\n",
       "      <th>0</th>\n",
       "      <td>0.000000</td>\n",
       "      <td>38.0</td>\n",
       "      <td>0</td>\n",
       "      <td>0</td>\n",
       "      <td>0</td>\n",
       "      <td>0</td>\n",
       "      <td>0</td>\n",
       "      <td>0</td>\n",
       "    </tr>\n",
       "    <tr>\n",
       "      <th>3</th>\n",
       "      <td>2.333333</td>\n",
       "      <td>62.0</td>\n",
       "      <td>1</td>\n",
       "      <td>0</td>\n",
       "      <td>0</td>\n",
       "      <td>0</td>\n",
       "      <td>0</td>\n",
       "      <td>1</td>\n",
       "    </tr>\n",
       "    <tr>\n",
       "      <th>5</th>\n",
       "      <td>4.000000</td>\n",
       "      <td>35.0</td>\n",
       "      <td>1</td>\n",
       "      <td>1</td>\n",
       "      <td>1</td>\n",
       "      <td>0</td>\n",
       "      <td>0</td>\n",
       "      <td>0</td>\n",
       "    </tr>\n",
       "    <tr>\n",
       "      <th>6</th>\n",
       "      <td>3.000000</td>\n",
       "      <td>62.0</td>\n",
       "      <td>1</td>\n",
       "      <td>0</td>\n",
       "      <td>1</td>\n",
       "      <td>0</td>\n",
       "      <td>0</td>\n",
       "      <td>0</td>\n",
       "    </tr>\n",
       "    <tr>\n",
       "      <th>7</th>\n",
       "      <td>4.000000</td>\n",
       "      <td>41.0</td>\n",
       "      <td>1</td>\n",
       "      <td>1</td>\n",
       "      <td>0</td>\n",
       "      <td>0</td>\n",
       "      <td>1</td>\n",
       "      <td>0</td>\n",
       "    </tr>\n",
       "  </tbody>\n",
       "</table>\n",
       "</div>"
      ],
      "text/plain": [
       "    Comfort   Age  spAge  Sex  Samsung  Motorola  LG  Google\n",
       "0  0.000000  38.0      0    0        0         0   0       0\n",
       "3  2.333333  62.0      1    0        0         0   0       1\n",
       "5  4.000000  35.0      1    1        1         0   0       0\n",
       "6  3.000000  62.0      1    0        1         0   0       0\n",
       "7  4.000000  41.0      1    1        0         0   1       0"
      ]
     },
     "execution_count": 17,
     "metadata": {},
     "output_type": "execute_result"
    }
   ],
   "source": [
    "model_data.head()"
   ]
  },
  {
   "cell_type": "code",
   "execution_count": 18,
   "id": "c9dee1a2",
   "metadata": {},
   "outputs": [],
   "source": [
    "model_1 = sm.ols('Comfort ~ Age', data = model_data)"
   ]
  },
  {
   "cell_type": "code",
   "execution_count": 19,
   "id": "2fc9d742",
   "metadata": {},
   "outputs": [],
   "source": [
    "results_1 = model_1.fit()"
   ]
  },
  {
   "cell_type": "code",
   "execution_count": 20,
   "id": "9a226d9e",
   "metadata": {},
   "outputs": [
    {
     "data": {
      "text/plain": [
       "Intercept    3.073826\n",
       "Age         -0.014667\n",
       "dtype: float64"
      ]
     },
     "execution_count": 20,
     "metadata": {},
     "output_type": "execute_result"
    }
   ],
   "source": [
    "results_1.params"
   ]
  },
  {
   "cell_type": "code",
   "execution_count": 21,
   "id": "749de4b6",
   "metadata": {},
   "outputs": [
    {
     "data": {
      "text/plain": [
       "2.395"
      ]
     },
     "execution_count": 21,
     "metadata": {},
     "output_type": "execute_result"
    }
   ],
   "source": [
    "3.07 + (45*-0.015)"
   ]
  },
  {
   "cell_type": "code",
   "execution_count": 22,
   "id": "0d5a0e61",
   "metadata": {},
   "outputs": [
    {
     "data": {
      "text/plain": [
       "(43.30371329661811, 7.880636347052266e-11)"
      ]
     },
     "execution_count": 22,
     "metadata": {},
     "output_type": "execute_result"
    }
   ],
   "source": [
    "results_1.fvalue, results_1.f_pvalue"
   ]
  },
  {
   "cell_type": "code",
   "execution_count": 23,
   "id": "5f48f2b8",
   "metadata": {},
   "outputs": [
    {
     "data": {
      "text/plain": [
       "<class 'statsmodels.stats.contrast.ContrastResults'>\n",
       "                             Test for Constraints                             \n",
       "==============================================================================\n",
       "                 coef    std err          t      P>|t|      [0.025      0.975]\n",
       "------------------------------------------------------------------------------\n",
       "c0            -0.0147      0.002     -6.581      0.000      -0.019      -0.010\n",
       "=============================================================================="
      ]
     },
     "execution_count": 23,
     "metadata": {},
     "output_type": "execute_result"
    }
   ],
   "source": [
    "results_1.t_test('Age = 0')"
   ]
  },
  {
   "cell_type": "code",
   "execution_count": 24,
   "id": "ead6593e",
   "metadata": {},
   "outputs": [],
   "source": [
    "model_2 = sm.ols('Comfort ~ Age + Samsung + Motorola + LG + Google',\n",
    "                data = model_data)"
   ]
  },
  {
   "cell_type": "code",
   "execution_count": 25,
   "id": "9b79c477",
   "metadata": {},
   "outputs": [],
   "source": [
    "results_2 = model_2.fit()"
   ]
  },
  {
   "cell_type": "code",
   "execution_count": 26,
   "id": "53046d53",
   "metadata": {},
   "outputs": [
    {
     "data": {
      "text/plain": [
       "1.2781342372760994e-11"
      ]
     },
     "execution_count": 26,
     "metadata": {},
     "output_type": "execute_result"
    }
   ],
   "source": [
    "results_2.f_pvalue"
   ]
  },
  {
   "cell_type": "code",
   "execution_count": 27,
   "id": "fce5c4b7",
   "metadata": {},
   "outputs": [
    {
     "data": {
      "text/plain": [
       "Intercept    2.936809\n",
       "Age         -0.014724\n",
       "Samsung      0.369220\n",
       "Motorola     0.065250\n",
       "LG           0.257137\n",
       "Google       0.056827\n",
       "dtype: float64"
      ]
     },
     "execution_count": 27,
     "metadata": {},
     "output_type": "execute_result"
    }
   ],
   "source": [
    "results_2.params"
   ]
  },
  {
   "cell_type": "code",
   "execution_count": 28,
   "id": "5f89df57",
   "metadata": {},
   "outputs": [
    {
     "data": {
      "text/plain": [
       "2.605"
      ]
     },
     "execution_count": 28,
     "metadata": {},
     "output_type": "execute_result"
    }
   ],
   "source": [
    "2.936 + (40*-0.0147) + (1*0.257)"
   ]
  },
  {
   "cell_type": "code",
   "execution_count": 29,
   "id": "d474d685",
   "metadata": {},
   "outputs": [
    {
     "data": {
      "text/plain": [
       "<class 'statsmodels.stats.contrast.ContrastResults'>\n",
       "                             Test for Constraints                             \n",
       "==============================================================================\n",
       "                 coef    std err          t      P>|t|      [0.025      0.975]\n",
       "------------------------------------------------------------------------------\n",
       "c0            -0.0147      0.002     -6.606      0.000      -0.019      -0.010\n",
       "c1             0.3692      0.091      4.059      0.000       0.191       0.548\n",
       "c2             0.0568      0.162      0.351      0.726      -0.261       0.375\n",
       "c3             0.2571      0.150      1.719      0.086      -0.036       0.551\n",
       "=============================================================================="
      ]
     },
     "execution_count": 29,
     "metadata": {},
     "output_type": "execute_result"
    }
   ],
   "source": [
    "results_2.t_test('Age = 0, Samsung = 0, Google = 0, LG = 0')"
   ]
  },
  {
   "cell_type": "code",
   "execution_count": 30,
   "id": "ac8f5bd2",
   "metadata": {},
   "outputs": [],
   "source": [
    "model_3 = sm.ols('Comfort ~ Age + Samsung + LG + Sex',\n",
    "                data = model_data)"
   ]
  },
  {
   "cell_type": "code",
   "execution_count": 31,
   "id": "e6f05548",
   "metadata": {},
   "outputs": [],
   "source": [
    "results_3 = model_3.fit()"
   ]
  },
  {
   "cell_type": "code",
   "execution_count": 32,
   "id": "1e2dca45",
   "metadata": {},
   "outputs": [
    {
     "data": {
      "text/plain": [
       "Intercept    2.807766\n",
       "Age         -0.014832\n",
       "Samsung      0.343491\n",
       "LG           0.237169\n",
       "Sex          0.336067\n",
       "dtype: float64"
      ]
     },
     "execution_count": 32,
     "metadata": {},
     "output_type": "execute_result"
    }
   ],
   "source": [
    "results_3.params"
   ]
  },
  {
   "cell_type": "code",
   "execution_count": 33,
   "id": "b9cb1073",
   "metadata": {},
   "outputs": [
    {
     "data": {
      "text/plain": [
       "<class 'statsmodels.stats.contrast.ContrastResults'>\n",
       "                             Test for Constraints                             \n",
       "==============================================================================\n",
       "                 coef    std err          t      P>|t|      [0.025      0.975]\n",
       "------------------------------------------------------------------------------\n",
       "c0             0.3361      0.077      4.360      0.000       0.185       0.487\n",
       "=============================================================================="
      ]
     },
     "execution_count": 33,
     "metadata": {},
     "output_type": "execute_result"
    }
   ],
   "source": [
    "results_3.t_test('Sex = 0')"
   ]
  },
  {
   "cell_type": "code",
   "execution_count": 34,
   "id": "dd9d4d50",
   "metadata": {},
   "outputs": [],
   "source": [
    "model_4 = sm.ols('Comfort ~ Samsung + LG + Age*Sex', data = model_data)"
   ]
  },
  {
   "cell_type": "code",
   "execution_count": 35,
   "id": "0ecb81d5",
   "metadata": {},
   "outputs": [],
   "source": [
    "results_4 = model_4.fit()"
   ]
  },
  {
   "cell_type": "code",
   "execution_count": 36,
   "id": "850edb4b",
   "metadata": {},
   "outputs": [
    {
     "data": {
      "text/plain": [
       "Intercept    3.002447\n",
       "Samsung      0.345635\n",
       "LG           0.244034\n",
       "Age         -0.018903\n",
       "Sex         -0.099096\n",
       "Age:Sex      0.008978\n",
       "dtype: float64"
      ]
     },
     "execution_count": 36,
     "metadata": {},
     "output_type": "execute_result"
    }
   ],
   "source": [
    "results_4.params"
   ]
  },
  {
   "cell_type": "code",
   "execution_count": 37,
   "id": "76b2b197",
   "metadata": {},
   "outputs": [
    {
     "data": {
      "text/plain": [
       "<class 'statsmodels.stats.contrast.ContrastResults'>\n",
       "                             Test for Constraints                             \n",
       "==============================================================================\n",
       "                 coef    std err          t      P>|t|      [0.025      0.975]\n",
       "------------------------------------------------------------------------------\n",
       "c0             0.0090      0.004      2.045      0.041       0.000       0.018\n",
       "=============================================================================="
      ]
     },
     "execution_count": 37,
     "metadata": {},
     "output_type": "execute_result"
    }
   ],
   "source": [
    "results_4.t_test('Age:Sex = 0')"
   ]
  },
  {
   "cell_type": "code",
   "execution_count": 38,
   "id": "a5d60a1d",
   "metadata": {},
   "outputs": [
    {
     "data": {
      "text/html": [
       "<table class=\"simpletable\">\n",
       "<caption>OLS Regression Results</caption>\n",
       "<tr>\n",
       "  <th>Dep. Variable:</th>         <td>Comfort</td>     <th>  R-squared:         </th> <td>   0.087</td>\n",
       "</tr>\n",
       "<tr>\n",
       "  <th>Model:</th>                   <td>OLS</td>       <th>  Adj. R-squared:    </th> <td>   0.082</td>\n",
       "</tr>\n",
       "<tr>\n",
       "  <th>Method:</th>             <td>Least Squares</td>  <th>  F-statistic:       </th> <td>   17.26</td>\n",
       "</tr>\n",
       "<tr>\n",
       "  <th>Date:</th>             <td>Wed, 19 Apr 2023</td> <th>  Prob (F-statistic):</th> <td>2.39e-16</td>\n",
       "</tr>\n",
       "<tr>\n",
       "  <th>Time:</th>                 <td>13:33:12</td>     <th>  Log-Likelihood:    </th> <td> -1434.0</td>\n",
       "</tr>\n",
       "<tr>\n",
       "  <th>No. Observations:</th>      <td>   917</td>      <th>  AIC:               </th> <td>   2880.</td>\n",
       "</tr>\n",
       "<tr>\n",
       "  <th>Df Residuals:</th>          <td>   911</td>      <th>  BIC:               </th> <td>   2909.</td>\n",
       "</tr>\n",
       "<tr>\n",
       "  <th>Df Model:</th>              <td>     5</td>      <th>                     </th>     <td> </td>   \n",
       "</tr>\n",
       "<tr>\n",
       "  <th>Covariance Type:</th>      <td>nonrobust</td>    <th>                     </th>     <td> </td>   \n",
       "</tr>\n",
       "</table>\n",
       "<table class=\"simpletable\">\n",
       "<tr>\n",
       "      <td></td>         <th>coef</th>     <th>std err</th>      <th>t</th>      <th>P>|t|</th>  <th>[0.025</th>    <th>0.975]</th>  \n",
       "</tr>\n",
       "<tr>\n",
       "  <th>Intercept</th> <td>    3.0024</td> <td>    0.154</td> <td>   19.503</td> <td> 0.000</td> <td>    2.700</td> <td>    3.305</td>\n",
       "</tr>\n",
       "<tr>\n",
       "  <th>Samsung</th>   <td>    0.3456</td> <td>    0.085</td> <td>    4.050</td> <td> 0.000</td> <td>    0.178</td> <td>    0.513</td>\n",
       "</tr>\n",
       "<tr>\n",
       "  <th>LG</th>        <td>    0.2440</td> <td>    0.145</td> <td>    1.681</td> <td> 0.093</td> <td>   -0.041</td> <td>    0.529</td>\n",
       "</tr>\n",
       "<tr>\n",
       "  <th>Age</th>       <td>   -0.0189</td> <td>    0.003</td> <td>   -6.393</td> <td> 0.000</td> <td>   -0.025</td> <td>   -0.013</td>\n",
       "</tr>\n",
       "<tr>\n",
       "  <th>Sex</th>       <td>   -0.0991</td> <td>    0.226</td> <td>   -0.438</td> <td> 0.662</td> <td>   -0.543</td> <td>    0.345</td>\n",
       "</tr>\n",
       "<tr>\n",
       "  <th>Age:Sex</th>   <td>    0.0090</td> <td>    0.004</td> <td>    2.045</td> <td> 0.041</td> <td>    0.000</td> <td>    0.018</td>\n",
       "</tr>\n",
       "</table>\n",
       "<table class=\"simpletable\">\n",
       "<tr>\n",
       "  <th>Omnibus:</th>       <td>50.408</td> <th>  Durbin-Watson:     </th> <td>   1.995</td>\n",
       "</tr>\n",
       "<tr>\n",
       "  <th>Prob(Omnibus):</th> <td> 0.000</td> <th>  Jarque-Bera (JB):  </th> <td>  36.380</td>\n",
       "</tr>\n",
       "<tr>\n",
       "  <th>Skew:</th>          <td>-0.383</td> <th>  Prob(JB):          </th> <td>1.26e-08</td>\n",
       "</tr>\n",
       "<tr>\n",
       "  <th>Kurtosis:</th>      <td> 2.394</td> <th>  Cond. No.          </th> <td>    383.</td>\n",
       "</tr>\n",
       "</table><br/><br/>Notes:<br/>[1] Standard Errors assume that the covariance matrix of the errors is correctly specified."
      ],
      "text/plain": [
       "<class 'statsmodels.iolib.summary.Summary'>\n",
       "\"\"\"\n",
       "                            OLS Regression Results                            \n",
       "==============================================================================\n",
       "Dep. Variable:                Comfort   R-squared:                       0.087\n",
       "Model:                            OLS   Adj. R-squared:                  0.082\n",
       "Method:                 Least Squares   F-statistic:                     17.26\n",
       "Date:                Wed, 19 Apr 2023   Prob (F-statistic):           2.39e-16\n",
       "Time:                        13:33:12   Log-Likelihood:                -1434.0\n",
       "No. Observations:                 917   AIC:                             2880.\n",
       "Df Residuals:                     911   BIC:                             2909.\n",
       "Df Model:                           5                                         \n",
       "Covariance Type:            nonrobust                                         \n",
       "==============================================================================\n",
       "                 coef    std err          t      P>|t|      [0.025      0.975]\n",
       "------------------------------------------------------------------------------\n",
       "Intercept      3.0024      0.154     19.503      0.000       2.700       3.305\n",
       "Samsung        0.3456      0.085      4.050      0.000       0.178       0.513\n",
       "LG             0.2440      0.145      1.681      0.093      -0.041       0.529\n",
       "Age           -0.0189      0.003     -6.393      0.000      -0.025      -0.013\n",
       "Sex           -0.0991      0.226     -0.438      0.662      -0.543       0.345\n",
       "Age:Sex        0.0090      0.004      2.045      0.041       0.000       0.018\n",
       "==============================================================================\n",
       "Omnibus:                       50.408   Durbin-Watson:                   1.995\n",
       "Prob(Omnibus):                  0.000   Jarque-Bera (JB):               36.380\n",
       "Skew:                          -0.383   Prob(JB):                     1.26e-08\n",
       "Kurtosis:                       2.394   Cond. No.                         383.\n",
       "==============================================================================\n",
       "\n",
       "Notes:\n",
       "[1] Standard Errors assume that the covariance matrix of the errors is correctly specified.\n",
       "\"\"\""
      ]
     },
     "execution_count": 38,
     "metadata": {},
     "output_type": "execute_result"
    }
   ],
   "source": [
    "results_4.summary()"
   ]
  },
  {
   "cell_type": "code",
   "execution_count": 39,
   "id": "ab6c2a50",
   "metadata": {},
   "outputs": [],
   "source": [
    "from matplotlib import pyplot as plt\n",
    "from statsmodels.graphics.factorplots import interaction_plot"
   ]
  },
  {
   "cell_type": "code",
   "execution_count": 40,
   "id": "bd42ed13",
   "metadata": {},
   "outputs": [
    {
     "data": {
      "image/png": "[encoded data removed]",
      "text/plain": [
       "<Figure size 640x480 with 1 Axes>"
      ]
     },
     "metadata": {},
     "output_type": "display_data"
    }
   ],
   "source": [
    "coef = results_4.params\n",
    "f18_pred = coef['Intercept'] + 18*coef['Age']\n",
    "f40_pred = coef['Intercept'] + 40*coef['Age']\n",
    "f80_pred = coef['Intercept'] + 80*coef['Age']\n",
    "\n",
    "m18_pred = coef['Intercept'] + 18*coef['Age'] + coef['Sex'] + 18*coef['Age:Sex']\n",
    "m40_pred = coef['Intercept'] + 40*coef['Age'] + coef['Sex'] + 40*coef['Age:Sex']\n",
    "m80_pred = coef['Intercept'] + 80*coef['Age'] + coef['Sex'] + 80*coef['Age:Sex']\n",
    "\n",
    "x_age = [18,40,80,18,40,80]\n",
    "m_sex = ['Female', 'Female', 'Female', 'Male', 'Male', 'Male']\n",
    "pred_comf = [f18_pred, f40_pred, f80_pred, m18_pred, m40_pred, m80_pred]\n",
    "\n",
    "fig1, ax1 = plt.subplots()\n",
    "fig1 = interaction_plot(\n",
    "    x = x_age,\n",
    "    trace = m_sex,\n",
    "    response = pred_comf,\n",
    "    colors = ['green', 'blue'],\n",
    "    ax = ax1,\n",
    "    ylabel = 'Predicted Smartphone Comfort',\n",
    "    xlabel = 'Age',\n",
    "    legendtitle = 'Sex')\n",
    "ax1.set_ylim([0,4])\n",
    "plt.show()"
   ]
  }
 ],
 "metadata": {
  "kernelspec": {
   "display_name": "Python 3 (ipykernel)",
   "language": "python",
   "name": "python3"
  },
  "language_info": {
   "codemirror_mode": {
    "name": "ipython",
    "version": 3
   },
   "file_extension": ".py",
   "mimetype": "text/x-python",
   "name": "python",
   "nbconvert_exporter": "python",
   "pygments_lexer": "ipython3",
   "version": "3.9.15"
  }
 },
 "nbformat": 4,
 "nbformat_minor": 5
}

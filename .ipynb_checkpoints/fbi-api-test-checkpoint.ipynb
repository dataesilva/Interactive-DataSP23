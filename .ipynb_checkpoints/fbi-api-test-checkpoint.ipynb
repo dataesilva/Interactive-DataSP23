{
 "cells": [
  {
   "cell_type": "code",
   "execution_count": 20,
   "id": "5a035dff",
   "metadata": {},
   "outputs": [],
   "source": [
    "import pandas as pd\n",
    "import requests\n",
    "import json\n",
    "import urllib"
   ]
  },
  {
   "cell_type": "code",
   "execution_count": 2,
   "id": "741019c8",
   "metadata": {},
   "outputs": [],
   "source": [
    "basepath = 'https://api.usa.gov/crime/fbi/cde/shr/national'"
   ]
  },
  {
   "cell_type": "code",
   "execution_count": 12,
   "id": "d94a9b61",
   "metadata": {},
   "outputs": [],
   "source": [
    "key = pd.read_csv(r'C:\\Users\\dsilva2\\Dropbox\\Kent\\EMAT-62110_Interactive Data\\EMAT-62110_Interactive-Data_SP23\\fbi-key.txt')"
   ]
  },
  {
   "cell_type": "code",
   "execution_count": 9,
   "id": "3e728303",
   "metadata": {},
   "outputs": [],
   "source": [
    "# key['key'][0]"
   ]
  },
  {
   "cell_type": "code",
   "execution_count": 30,
   "id": "bfc42009",
   "metadata": {},
   "outputs": [],
   "source": [
    "header = {'accept': 'application/json',\n",
    "         'X-Api-Key': key['key'][0]\n",
    "         }"
   ]
  },
  {
   "cell_type": "code",
   "execution_count": 13,
   "id": "ec368f0a",
   "metadata": {},
   "outputs": [],
   "source": [
    "auth = 'API_KEY={}'.format(key['key'][0])"
   ]
  },
  {
   "cell_type": "code",
   "execution_count": 15,
   "id": "ab16e772",
   "metadata": {},
   "outputs": [],
   "source": [
    "variable_list = ['age', 'ethnicity', 'race', 'sex', 'circumstance', 'relationship', 'weapon', 'count']"
   ]
  },
  {
   "cell_type": "code",
   "execution_count": 17,
   "id": "f606088b",
   "metadata": {},
   "outputs": [],
   "source": [
    "query = {\n",
    "    'from': 2015,\n",
    "    'to': 2022   \n",
    "}"
   ]
  },
  {
   "cell_type": "code",
   "execution_count": 22,
   "id": "b6747fd3",
   "metadata": {},
   "outputs": [
    {
     "data": {
      "text/plain": [
       "'from=2015&to=2022'"
      ]
     },
     "execution_count": 22,
     "metadata": {},
     "output_type": "execute_result"
    }
   ],
   "source": [
    "urllib.parse.urlencode(query)"
   ]
  },
  {
   "cell_type": "code",
   "execution_count": 25,
   "id": "c1f08b18",
   "metadata": {},
   "outputs": [],
   "source": [
    "# basepath + '/offense/' + str('i') + '?' + urllib.parse.urlencode(query) + '&' + auth"
   ]
  },
  {
   "cell_type": "code",
   "execution_count": 34,
   "id": "01855276",
   "metadata": {},
   "outputs": [],
   "source": [
    "testurl = basepath + '/offense/' + str('offense') + '?' + urllib.parse.urlencode(query)\n",
    "test = requests.get(testurl, headers = header)"
   ]
  },
  {
   "cell_type": "code",
   "execution_count": 35,
   "id": "0020a382",
   "metadata": {},
   "outputs": [
    {
     "data": {
      "text/plain": [
       "'https://api.usa.gov/crime/fbi/cde/offense/offense?from=2015&to=2022'"
      ]
     },
     "execution_count": 35,
     "metadata": {},
     "output_type": "execute_result"
    }
   ],
   "source": [
    "testurl"
   ]
  },
  {
   "cell_type": "code",
   "execution_count": 36,
   "id": "e188f487",
   "metadata": {},
   "outputs": [
    {
     "data": {
      "text/plain": [
       "'{\"message\":\"Missing Authentication Token\"}\\n'"
      ]
     },
     "execution_count": 36,
     "metadata": {},
     "output_type": "execute_result"
    }
   ],
   "source": [
    "test.text"
   ]
  },
  {
   "cell_type": "code",
   "execution_count": null,
   "id": "a3cec10f",
   "metadata": {},
   "outputs": [],
   "source": [
    "for i in variable_list[0]:\n",
    "    url = basepath + '/offense/' + str('i') + '?' + urllib.parse.urlencode(query) + '&' + auth\n",
    "    requests.get(url, headers = header)"
   ]
  }
 ],
 "metadata": {
  "kernelspec": {
   "display_name": "Python 3 (ipykernel)",
   "language": "python",
   "name": "python3"
  },
  "language_info": {
   "codemirror_mode": {
    "name": "ipython",
    "version": 3
   },
   "file_extension": ".py",
   "mimetype": "text/x-python",
   "name": "python",
   "nbconvert_exporter": "python",
   "pygments_lexer": "ipython3",
   "version": "3.9.15"
  }
 },
 "nbformat": 4,
 "nbformat_minor": 5
}
